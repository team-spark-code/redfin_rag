{
 "cells": [
  {
   "cell_type": "code",
   "execution_count": null,
   "id": "0f58538a",
   "metadata": {},
   "outputs": [
    {
     "name": "stdout",
     "output_type": "stream",
     "text": [
      "Wrote first 5 items to: src\\dataset\\extract_2025-08-26_first5.json\n"
     ]
    }
   ],
   "source": [
    "import json, sys, pathlib\n",
    "src = pathlib.Path(\"src/dataset/extract_2025-08-26.json\")\n",
    "dst = pathlib.Path(\"src/dataset/extract_2025-08-26_first4.json\")\n",
    "text = src.read_text(encoding=\"utf-8\").strip()\n",
    "try:\n",
    "    data = json.loads(text)                     # 배열 JSON 가정\n",
    "    if isinstance(data, list):\n",
    "        data = data[:4]\n",
    "    else:\n",
    "        raise ValueError(\"JSON root is not a list\")\n",
    "except Exception:                               # NDJSON 가정\n",
    "    lines = [ln for ln in text.splitlines() if ln.strip()]\n",
    "    data = [json.loads(ln) for ln in lines[:4]]\n",
    "dst.write_text(json.dumps(data, ensure_ascii=False, indent=2), encoding=\"utf-8\")\n",
    "print(f\"Wrote first 5 items to: {dst}\")"
   ]
  }
 ],
 "metadata": {
  "kernelspec": {
   "display_name": ".venv",
   "language": "python",
   "name": "python3"
  },
  "language_info": {
   "codemirror_mode": {
    "name": "ipython",
    "version": 3
   },
   "file_extension": ".py",
   "mimetype": "text/x-python",
   "name": "python",
   "nbconvert_exporter": "python",
   "pygments_lexer": "ipython3",
   "version": "3.11.13"
  }
 },
 "nbformat": 4,
 "nbformat_minor": 5
}
